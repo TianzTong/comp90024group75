{
 "cells": [
  {
   "cell_type": "code",
   "execution_count": 1,
   "id": "3330ad19",
   "metadata": {},
   "outputs": [],
   "source": [
    "import json\n",
    "import time\n",
    "import pandas as pd"
   ]
  },
  {
   "cell_type": "markdown",
   "id": "fa792174",
   "metadata": {},
   "source": [
    "The cell below will access the MRC and gather the information from the Melbourne research cloud for the desired query, which would be using the datasets of ASX in quarterly clusters and unemployment data that is already clustered quaterly"
   ]
  },
  {
   "cell_type": "code",
   "execution_count": null,
   "id": "d171631e",
   "metadata": {},
   "outputs": [],
   "source": [
    "URL = '' #Add URL here\n",
    "res = requests.get(URL)\n",
    "rjson = res.json()"
   ]
  },
  {
   "cell_type": "code",
   "execution_count": null,
   "id": "3590a057",
   "metadata": {},
   "outputs": [],
   "source": [
    "asx_quaterly = []\n",
    "\n",
    "for hit in rjson['result']['aggregations']:\n",
    "    quater = hit[\"_source\"][\"Quaterly\"]\n",
    "    price = float(hit[\"_source\"][\"Price\"].replace(\",\", \" \"))\n",
    "    change = float(hit[\"_source\"][\"Change %\"][:-1])\n",
    "    asx_quaterly.append((quater, price, change))\n",
    "\n",
    "asx_quaterly.sort()\n",
    "df_asx_quaterly = pd.DataFrame(asx_quaterly, columns=(\"Quater\", \"ASX Price\", \"ASX Change (%)\"))\n",
    "\n",
    "df_asx_quaterly.head(10)"
   ]
  },
  {
   "cell_type": "markdown",
   "id": "81712003",
   "metadata": {},
   "source": [
    "The cells below will do the same as above, but do an elastic search on the unemployment dataset instead"
   ]
  },
  {
   "cell_type": "code",
   "execution_count": null,
   "id": "b44f36ed",
   "metadata": {},
   "outputs": [],
   "source": [
    "URL = ''\n",
    "res = requests.get(URL)\n",
    "rjson = res.json()"
   ]
  },
  {
   "cell_type": "code",
   "execution_count": 1,
   "id": "7420e476",
   "metadata": {},
   "outputs": [
    {
     "ename": "SyntaxError",
     "evalue": "positional argument follows keyword argument (3633228185.py, line 9)",
     "output_type": "error",
     "traceback": [
      "\u001b[1;36m  Input \u001b[1;32mIn [1]\u001b[1;36m\u001b[0m\n\u001b[1;33m    df_unemployment = pd.Dataframe(unemployment, columns = \"Quater\", \"State\", \"\")\u001b[0m\n\u001b[1;37m                                                                                ^\u001b[0m\n\u001b[1;31mSyntaxError\u001b[0m\u001b[1;31m:\u001b[0m positional argument follows keyword argument\n"
     ]
    }
   ],
   "source": [
    "unemployment = []\n",
    "for hit in rjson['result']['aggregations']:\n",
    "    quater = hit['_source']['Quater']\n",
    "    state = hit['_source']['State']\n",
    "    unemployment_data = float(hit['_source']['Unemployment']) #Change for specific\n",
    "    unemployment.append((quater, state, unemployment_data))\n",
    "    \n",
    "df_unemployment = pd.Dataframe(unemployment, columns = \"Quater\", \"State\", \"Unemployment\")\n",
    "df_unemployment = df_unemployment.sort_values(by=['Quater', 'State'])\n",
    "\n",
    "df_unemployment['Change'] = df_unemployment.groupby('State')['UnemploymentRate'].diff()\n",
    "# This creates a way to map whether change mimics the same as ASX\n",
    "\n",
    "df_unemployment.head(10)"
   ]
  },
  {
   "cell_type": "markdown",
   "id": "70284a65",
   "metadata": {},
   "source": [
    "Analysis"
   ]
  },
  {
   "cell_type": "code",
   "execution_count": 2,
   "id": "71d6ca45",
   "metadata": {},
   "outputs": [
    {
     "ename": "NameError",
     "evalue": "name 'df_unemployment' is not defined",
     "output_type": "error",
     "traceback": [
      "\u001b[1;31m---------------------------------------------------------------------------\u001b[0m",
      "\u001b[1;31mNameError\u001b[0m                                 Traceback (most recent call last)",
      "Input \u001b[1;32mIn [2]\u001b[0m, in \u001b[0;36m<cell line: 1>\u001b[1;34m()\u001b[0m\n\u001b[1;32m----> 1\u001b[0m df \u001b[38;5;241m=\u001b[39m pd\u001b[38;5;241m.\u001b[39mmerge(\u001b[43mdf_unemployment\u001b[49m, df_asx_quaterly)\n\u001b[0;32m      2\u001b[0m df \u001b[38;5;241m=\u001b[39m df\u001b[38;5;241m.\u001b[39mdropna()\n",
      "\u001b[1;31mNameError\u001b[0m: name 'df_unemployment' is not defined"
     ]
    }
   ],
   "source": [
    "df = pd.merge(df_unemployment, df_asx_quaterly, on='Quater')\n",
    "df = df.dropna()"
   ]
  },
  {
   "cell_type": "code",
   "execution_count": 5,
   "id": "b7a6a694",
   "metadata": {},
   "outputs": [],
   "source": [
    "import matplotlib.pyplot as plt\n",
    "import statsmodels.api as sm\n",
    "import numpy as np"
   ]
  },
  {
   "cell_type": "code",
   "execution_count": 7,
   "id": "006b8063",
   "metadata": {},
   "outputs": [
    {
     "ename": "NameError",
     "evalue": "name 'df' is not defined",
     "output_type": "error",
     "traceback": [
      "\u001b[1;31m---------------------------------------------------------------------------\u001b[0m",
      "\u001b[1;31mNameError\u001b[0m                                 Traceback (most recent call last)",
      "Input \u001b[1;32mIn [7]\u001b[0m, in \u001b[0;36m<cell line: 6>\u001b[1;34m()\u001b[0m\n\u001b[0;32m      4\u001b[0m ax1\u001b[38;5;241m.\u001b[39mset_xlabel(\u001b[38;5;124m'\u001b[39m\u001b[38;5;124mQuater\u001b[39m\u001b[38;5;124m'\u001b[39m)\n\u001b[0;32m      5\u001b[0m ax1\u001b[38;5;241m.\u001b[39mset_ylabel(\u001b[38;5;124m'\u001b[39m\u001b[38;5;124mUnemployment Change\u001b[39m\u001b[38;5;124m'\u001b[39m, color\u001b[38;5;241m=\u001b[39mcolour)\n\u001b[1;32m----> 6\u001b[0m ax1\u001b[38;5;241m.\u001b[39mplot(\u001b[43mdf\u001b[49m[\u001b[38;5;124m'\u001b[39m\u001b[38;5;124mQuater\u001b[39m\u001b[38;5;124m'\u001b[39m], df[\u001b[38;5;124m'\u001b[39m\u001b[38;5;124mChange\u001b[39m\u001b[38;5;124m'\u001b[39m], color\u001b[38;5;241m=\u001b[39mcolour, marker\u001b[38;5;241m=\u001b[39m\u001b[38;5;124m'\u001b[39m\u001b[38;5;124mo\u001b[39m\u001b[38;5;124m'\u001b[39m, label\u001b[38;5;241m=\u001b[39m\u001b[38;5;124m'\u001b[39m\u001b[38;5;124mUnemployment Change\u001b[39m\u001b[38;5;124m'\u001b[39m)\n\u001b[0;32m      7\u001b[0m ax1\u001b[38;5;241m.\u001b[39mtick_params(axis\u001b[38;5;241m=\u001b[39m\u001b[38;5;124m'\u001b[39m\u001b[38;5;124my\u001b[39m\u001b[38;5;124m'\u001b[39m, labelcolor\u001b[38;5;241m=\u001b[39mcolour)\n\u001b[0;32m      9\u001b[0m ax2 \u001b[38;5;241m=\u001b[39m ax1\u001b[38;5;241m.\u001b[39mtwinx()\n",
      "\u001b[1;31mNameError\u001b[0m: name 'df' is not defined"
     ]
    },
    {
     "data": {
      "image/png": "[encoded data removed]",
      "text/plain": [
       "<Figure size 720x432 with 1 Axes>"
      ]
     },
     "metadata": {
      "needs_background": "light"
     },
     "output_type": "display_data"
    }
   ],
   "source": [
    "fig, ax1 = plt.subplots(figsize=(10,6))\n",
    "\n",
    "colour = 'tab:blue'\n",
    "ax1.set_xlabel('Quater')\n",
    "ax1.set_ylabel('Unemployment Change', color=colour)\n",
    "ax1.plot(df['Quater'], df['Change'], color=colour, marker='o', label='Unemployment Change')\n",
    "ax1.tick_params(axis='y', labelcolor=colour)\n",
    "\n",
    "ax2 = ax1.twinx()\n",
    "colour2 = 'tab:red'\n",
    "ax2.set_ylabel('ASX Change(%)', color=colour2)\n",
    "ax2.plot(df['Quarter'], df['ASX Change (%)'], color=colour2, marker='x', label='ASX Change (%)')\n",
    "ax2.tick_params(axis='y', labelcolor=colour2)\n",
    "\n",
    "lines_1, labels_1 = ax1.get_legend_handles_labels()\n",
    "lines_2, labels_2 = ax2.get_legend_handles_labels()\n",
    "ax1.legend(lines_1 + lines_2, labels_1 + labels_2, loc='upper left')\n",
    "\n",
    "plt.title('Comparison of Unemployment Change and ASX Change Per Quarter')\n",
    "\n",
    "plot.show()"
   ]
  },
  {
   "cell_type": "code",
   "execution_count": null,
   "id": "a28c7564",
   "metadata": {},
   "outputs": [],
   "source": []
  },
  {
   "cell_type": "code",
   "execution_count": null,
   "id": "dfa932f9",
   "metadata": {},
   "outputs": [],
   "source": []
  }
 ],
 "metadata": {
  "kernelspec": {
   "display_name": "Python 3 (ipykernel)",
   "language": "python",
   "name": "python3"
  },
  "language_info": {
   "codemirror_mode": {
    "name": "ipython",
    "version": 3
   },
   "file_extension": ".py",
   "mimetype": "text/x-python",
   "name": "python",
   "nbconvert_exporter": "python",
   "pygments_lexer": "ipython3",
   "version": "3.9.12"
  }
 },
 "nbformat": 4,
 "nbformat_minor": 5
}
