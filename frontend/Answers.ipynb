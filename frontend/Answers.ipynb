{
 "cells": [
  {
   "cell_type": "markdown",
   "id": "e6bb2b26",
   "metadata": {},
   "source": [
    "# Part 1: ASX 200 vs. Twitter Sentiments."
   ]
  },
  {
   "cell_type": "markdown",
   "id": "83b4525b",
   "metadata": {},
   "source": [
    "We will first compare the ASX 200 with Twitter Senitments datasets to attempt to identify a relationship between markets and general sentiment. We start by loading in and storing the ASX 200 data from the ElasticSearch."
   ]
  },
  {
   "cell_type": "code",
   "execution_count": null,
   "id": "d984475a",
   "metadata": {},
   "outputs": [],
   "source": [
    "import pandas as pd\n",
    "import requests\n",
    "\n",
    "# Load data from ElasticSearch.\n",
    "URL = 'http://127.0.0.1:9090/asx/daily'\n",
    "res = requests.get(URL)\n",
    "rjson = res.json()\n",
    "\n",
    "# Iterate over and preprocess ASX data.\n",
    "asx_daily = []\n",
    "for hit in rjson['result']['hits']:\n",
    "    date = pd.to_datetime(hit[\"_source\"][\"Date\"], format=\"%Y-%m-%d\").normalize()\n",
    "    price = float(hit[\"_source\"][\"Price\"])\n",
    "    change_string = hit[\"_source\"][\"Change %\"]\n",
    "    while change_string[-1] == '%':\n",
    "        change_string = change_string[:-1]\n",
    "    change = float(change_string)\n",
    "    asx_daily.append((date, price, change))\n",
    "\n",
    "# Store ASX Data in Pandas dataframe.    \n",
    "asx_daily.sort()\n",
    "df_asx_daily = pd.DataFrame(asx_daily, columns=(\"Date\", \"ASX Price\", \"ASX Change (%)\"))\n",
    "df_asx_daily.head(10)"
   ]
  },
  {
   "cell_type": "markdown",
   "id": "ba3745e7",
   "metadata": {},
   "source": [
    "Now we scan and load in the data from the Twitter dataset."
   ]
  },
  {
   "cell_type": "code",
   "execution_count": null,
   "id": "4b8c2d52",
   "metadata": {},
   "outputs": [],
   "source": [
    "# Load data from ElasticSearch.\n",
    "URL = 'http://127.0.0.1:9090/tweets/daily'\n",
    "res = requests.get(URL)\n",
    "rjson = res.json()\n",
    "\n",
    "# Exclude dates in the daterange that ElasticSearch falsely initialized.\n",
    "EXCLUDE_DATES = {pd.to_datetime('2021-06-25'), pd.to_datetime('2022-03-29'), pd.to_datetime('2021-09-08'),\n",
    "                 pd.to_datetime('2021-07-02'), pd.to_datetime('2021-09-09'), pd.to_datetime('2021-09-10'),\n",
    "                 pd.to_datetime('2021-06-27'), pd.to_datetime('2021-09-07'), pd.to_datetime('2021-06-26'),\n",
    "                 pd.to_datetime('2021-10-10'), pd.to_datetime('2021-07-03')} \n",
    "\n",
    "# Iterate over and preprocess Twitter data.\n",
    "twitter = {}\n",
    "for bucket in rjson[\"result\"][\"Date\"][\"buckets\"]:\n",
    "    date = pd.to_datetime(bucket[\"key_as_string\"]).normalize()\n",
    "    if date not in EXCLUDE_DATES:\n",
    "        sentiment = float(bucket[\"Sentiment\"][\"value\"])\n",
    "        if date not in twitter:\n",
    "            twitter[date] = 0\n",
    "        twitter[date] += sentiment\n",
    "\n",
    "# Store Twitter data in Pandas dataframe.\n",
    "df_twitter_daily = pd.DataFrame(sorted(twitter.items()), columns=(\"Date\", \"Sentiment\"))\n",
    "df_twitter_daily.head(10)"
   ]
  },
  {
   "cell_type": "markdown",
   "id": "bd4e9768",
   "metadata": {},
   "source": [
    "Merge datasets by date to facilitate per-day comparisons."
   ]
  },
  {
   "cell_type": "code",
   "execution_count": null,
   "id": "84d9ec9c",
   "metadata": {},
   "outputs": [],
   "source": [
    "# Merge Datasets\n",
    "df = pd.merge(df_twitter_daily, df_asx_daily, on='Date')\n",
    "df = df.dropna()\n",
    "earliest_date = df['Date'].min()\n",
    "df['Date Index'] = (df['Date'] - earliest_date).dt.days\n",
    "df.head(10)"
   ]
  },
  {
   "cell_type": "markdown",
   "id": "03b2cbda",
   "metadata": {},
   "source": [
    "Create regressions plots of Senitment vs. time, Price ($) vs. time, and Price Change (\\%) vs. time, in order to identify the individual field's shapes / patterns."
   ]
  },
  {
   "cell_type": "code",
   "execution_count": null,
   "id": "e3613796",
   "metadata": {},
   "outputs": [],
   "source": [
    "# Analyse change over time.\n",
    "import matplotlib.pyplot as plt\n",
    "import statsmodels.api as sm\n",
    "import numpy as np\n",
    "\n",
    "x = np.array(df[\"Date Index\"])\n",
    "x_label = \"Days Since 21/6/21\"\n",
    "field_names = [\"Sentiment\",  \"ASX Price\", \"ASX Change (%)\"]\n",
    "colors = [\"darkblue\", \"darkgreen\", \"indigo\"]\n",
    "for field_name, color in zip(field_names, colors):\n",
    "\n",
    "    # Create regression.\n",
    "    y = np.array(df[field_name])\n",
    "    x0 = sm.add_constant(x)\n",
    "    model = sm.OLS(y, x0).fit()\n",
    "    y_pred = model.predict(x0)\n",
    "\n",
    "    # Regression Description String.\n",
    "    regression_string = ''\n",
    "    regression_string += f'y = {model.params[1]:.2f}x + {model.params[0]:.2f}\\n'\n",
    "    regression_string += f'R-Squared (Adj) = {model.rsquared_adj:.2f}'\n",
    "\n",
    "    # Plot Datapoints and Regression.\n",
    "    plt.scatter(x, y, color=color)\n",
    "    plt.plot(x, y_pred, color='red', label=regression_string)\n",
    "    plt.title(\"Visualization of how \" + field_name + \" changes over time (from 21/6/21).\")\n",
    "    plt.xlabel(x_label)\n",
    "    plt.ylabel(field_name)\n",
    "    plt.legend()\n",
    "    plt.grid(True)\n",
    "    plt.show()"
   ]
  },
  {
   "cell_type": "markdown",
   "id": "d9da37f1",
   "metadata": {},
   "source": [
    "From above, we see that there appears to be some patterns of fluctuation over time. The time-based regressions seem too simple to pick up anything, which is evident in the low R-Sqaured values. To properly compare Senitments vs. markets, we will conduct regressions of one against the other without date/time as a factor. The aim is to simply see if Price ($) or Price Change (\\%) can predict Twitter Sentiments."
   ]
  },
  {
   "cell_type": "code",
   "execution_count": null,
   "id": "3ae65543",
   "metadata": {},
   "outputs": [],
   "source": [
    "# Directly Sentiment vs ASX.\n",
    "y = np.array(df[\"Sentiment\"])\n",
    "y_label = \"Twitter Sentiments\"\n",
    "\n",
    "field_names = [\"ASX Price\", \"ASX Change (%)\"]\n",
    "colors = [\"darkgoldenrod\", \"steelblue\"]\n",
    "for field_name, color in zip(field_names, colors):\n",
    "\n",
    "    # Create regression.\n",
    "    x = np.array(df[field_name])\n",
    "    x0 = sm.add_constant(x)\n",
    "    model = sm.OLS(y, x0).fit()\n",
    "    y_pred = model.predict(x0)\n",
    "\n",
    "    # Regression Description String.\n",
    "    regression_string = ''\n",
    "    regression_string += f'y = {model.params[1]:.2f}x + {model.params[0]:.2f}\\n'\n",
    "    regression_string += f'R-Squared (Adj) = {model.rsquared_adj:.2f}'\n",
    "\n",
    "    # Plot Datapoints and Regression.\n",
    "    plt.scatter(x, y, color=color)\n",
    "    plt.plot(x, y_pred, color='red', label=regression_string)\n",
    "    plt.title(\"Visualization of the relationship between \" + field_name + \" and\\n Australian Twitter Sentiment.\")\n",
    "    plt.xlabel(field_name)\n",
    "    plt.ylabel(y_label)\n",
    "    plt.legend()\n",
    "    plt.grid(True)\n",
    "    plt.show()"
   ]
  },
  {
   "cell_type": "markdown",
   "id": "2a555b0b",
   "metadata": {},
   "source": [
    "As shown be the regressions. The R-Squared (adjusted) in both Figures is 0. Moreover even the regression parameter in the Price Change figure is 0. This suggests that there is no meaningful correlation between the two variables. This conclusion is also reinforced by obersving the shapes of the graphs. There seem to be lots of varying Sentiment values alligned with similar Prices and alligned with similar Price Changes."
   ]
  },
  {
   "cell_type": "markdown",
   "id": "e22f9408",
   "metadata": {},
   "source": [
    "# Part 2: Twitter Sentiments vs. Unemployment Levels"
   ]
  },
  {
   "cell_type": "markdown",
   "id": "75867fa3",
   "metadata": {},
   "source": [
    "Next we will observe the aggregate Twitter Sentiments, and unemployment levels across Australian States to attempt to identify if they are correlated."
   ]
  },
  {
   "cell_type": "code",
   "execution_count": null,
   "id": "d05e3c8c",
   "metadata": {},
   "outputs": [],
   "source": [
    "import requests\n",
    "import pandas as pd\n",
    "\n",
    "# Load data from ElasticSearch.\n",
    "URL = 'http://127.0.0.1:9090/tweets/state'\n",
    "res = requests.get(URL)\n",
    "rjson = res.json()\n",
    "\n",
    "# Iterate over and preprocess Twitter data.\n",
    "twitter = {}\n",
    "for hit in rjson['result']['State'][\"buckets\"]:\n",
    "    state = hit[\"key\"]\n",
    "    sentiment = hit[\"Sentiment\"][\"value\"]\n",
    "    if state not in twitter:\n",
    "        twitter[state] = 0\n",
    "    twitter[state] += sentiment\n",
    "\n",
    "# Store Twitter data in Pandas dataframe.\n",
    "df_twitter = pd.DataFrame(sorted(twitter.items()), columns=(\"State\", \"Sentiment\"))\n",
    "df_twitter.head(10)"
   ]
  },
  {
   "cell_type": "markdown",
   "id": "b89d467d",
   "metadata": {},
   "source": [
    "Now we we load in the by-state unemployment data from the ElasticSearch"
   ]
  },
  {
   "cell_type": "code",
   "execution_count": null,
   "id": "569816f3",
   "metadata": {},
   "outputs": [],
   "source": [
    "# Load data from ElasticSearch.\n",
    "URL = 'http://127.0.0.1:9090/unemployment/mid'\n",
    "res = requests.get(URL)\n",
    "rjson = res.json()\n",
    "print(rjson)\n",
    "\n",
    "# Iterate over and preprocess unemployment data.\n",
    "unemployment_sep21 = {}\n",
    "unemployment_jun21 = {}\n",
    "for hit in rjson['result']['State']['buckets']:\n",
    "    state = hit[\"key\"]\n",
    "    sep21 = hit[\"sep_21\"]['value']\n",
    "    jun21 = hit[\"jun_21\"]['value']\n",
    "\n",
    "    if state not in unemployment_jun21:\n",
    "        unemployment_jun21[state] = 0\n",
    "    if state not in unemployment_sep21:\n",
    "        unemployment_sep21[state] = 0\n",
    "    unemployment_jun21[state] += jun21\n",
    "    unemployment_sep21[state] += sep21\n",
    "\n",
    "# Store unemployment data in Pandas dataframe.\n",
    "df_sep21 = pd.DataFrame(sorted(unemployment_sep21.items()), columns=(\"State\", \"sep_21\"))\n",
    "df_jun21 = pd.DataFrame(sorted(unemployment_jun21.items()), columns=(\"State\", \"jun_21\"))\n",
    "df_unemployment = pd.merge(df_sep21, df_jun21, on='State')\n",
    "df_unemployment.head(10)"
   ]
  },
  {
   "cell_type": "markdown",
   "id": "a7d0c4f7",
   "metadata": {},
   "source": [
    "Merge datasets by date to facilitate by-State comparisons."
   ]
  },
  {
   "cell_type": "code",
   "execution_count": null,
   "id": "cc6451d4",
   "metadata": {},
   "outputs": [],
   "source": [
    "# Merge two datasets.\n",
    "df = pd.merge(df_twitter, df_unemployment, on='State')\n",
    "df = df.dropna()\n",
    "df.head(10)\n",
    "df[\"Unemp Avg\"] = (df['sep_21'] + df['jun_21']) / 2\n",
    "\n",
    "# Add renamed and processed columns.\n",
    "STATE_NAMES_TO_CODES = {\"New South Wales\": \"NSW\", \"Victoria\": \"VIC\", \"Queensland\": \"QLD\", \"South Australia\": \"SA\",\n",
    "                        \"Northern Territory\": \"NT\", \"Western Australia\": \"WA\", \"Tasmania\": \"TAS\",\n",
    "                        \"Australian Capital Territory\": \"ACT\"}\n",
    "df[\"State\"] = df[\"State\"].apply(STATE_NAMES_TO_CODES.get)\n",
    "df = df.sort_values(by=\"Unemp Avg\", ascending=False)\n",
    "df[\"June 2021\"] = df['jun_21']\n",
    "df[\"September 2021\"] = df['sep_21']\n",
    "df[\"Twitter Sentiment\"] = df[\"Sentiment\"]"
    "df.head(10)"
   ]
  },
  {
   "cell_type": "markdown",
   "id": "8f73fe70",
   "metadata": {},
   "source": [
    "Create Barplots of Twitter Sentiment and Unemployment Data against States. Observe the shapes to try and identify and relationships."
   ]
  },
  {
   "cell_type": "code",
   "execution_count": null,
   "id": "7ee24fac",
   "metadata": {},
   "outputs": [],
   "source": [
    "# Analyse General Unemployment levels.\n",
    "import matplotlib.pyplot as plt\n",
    "\n",
    "# State vs Unemployment\n",
    "df[['State', \"September 2021\", \"June 2021\"]].plot(x='State', kind='bar', stacked=False, width=0.8, edgecolor='black',\n",
    "                                                  title='Unemployment Levels across Australian States.')\n",
    "plt.show()\n",
    "\n",
    "# State vs Sentiment\n",
    "df[['State', 'Twitter Sentiment']].plot(x='State', kind='bar', stacked=False, width=0.8, edgecolor='black',\n",
    "                                        color='mediumorchid', title='Sentiment levels across Australian States.')\n",
    "plt.show()"
   ]
  },
  {
   "cell_type": "markdown",
   "id": "53e1c1ba",
   "metadata": {},
   "source": [
    "The two plots seem to be similiar in shape, however this appears to match with each States population, not each other. Larger states will have more people, thus usually more unemployment. It will also have more users tweeting, and since Sentiments are on average positive, this will result in higher Senitiments. We will adjust the data by state populations to get a more accuarate picture."
   ]
  },
  {
   "cell_type": "code",
   "execution_count": null,
   "id": "309b71a9",
   "metadata": {},
   "outputs": [],
   "source": [
    "# Scale data by state populations and redo analysis.\n",
    "POPULATIONS = {'NSW': 8189266, 'VIC': 6649159, 'QLD': 5221170, 'SA': 1773243, 'WA': 2681633, 'TAS': 541479943,\n",
    "               'NT': 246338103, 'ACT': 432266}\n",
    "df[\"Population\"] = df[\"State\"].apply(POPULATIONS.get)\n",
    "df[\"June 2021 (%)\"] = df[\"June 2021\"] / df[\"Population\"]\n",
    "df[\"September 2021 (%)\"] = df[\"September 2021\"] / df[\"Population\"]\n",
    "df[\"Twitter Sentiment (Scaled by Population)\"] = df[\"Sentiment\"] / df[\"Population\"]\n",
    "\n",
    "# State vs Unemployment\n",
    "df[['State', \"September 2021 (%)\", \"June 2021 (%)\"]].plot(x='State', kind='bar', stacked=False, width=0.8, edgecolor='black',\n",
    "                                                          title='Unemployment Levels across Australian States.')\n",
    "plt.show()\n",
    "\n",
    "# State vs Sentiment\n",
    "df[['State', 'Twitter Sentiment (Scaled by Population)']].plot(x='State', kind='bar', stacked=False, width=0.8, edgecolor='black',\n",
    "                                                                color='mediumorchid', title='Sentiment levels across Australian States.')\n",
    "plt.show()"
   ]
  },
  {
   "cell_type": "markdown",
   "id": "c5e4ad1c",
   "metadata": {},
   "source": [
    "Here, the figures seem to reveal an inverse relationship between Sentiments and unemployment, States with higher Sentiments compared to others seem to have low unemployment compared to others and vice versa. Noteably, NA and TAS, who had low reporting for both datasets, and so they were overscaled down."
   ]
  },
  {
   "cell_type": "markdown",
   "id": "8f7b7aa9",
   "metadata": {},
   "source": [
    "# Part 3: ASX 200 vs. Unemployment Levels"
   ]
  },
  {
   "cell_type": "markdown",
   "id": "e7b77bc2",
   "metadata": {},
   "source": [
    "Now we will compare total Australian unemployment levels against the average stock prices across quarters. We will start by loading in and processing the ASX 200 dataset."
   ]
  },
  {
   "cell_type": "code",
   "execution_count": null,
   "id": "f39033e3",
   "metadata": {},
   "outputs": [],
   "source": [
    "import requests\n",
    "import pandas as pd\n",
    "\n",
    "# Load data from ElasticSearch.\n",
    "URL = '' #TODO: Add URL here\n",
    "res = requests.get(URL)\n",
    "rjson = res.json()\n",
    "\n",
    "# Create function for getting Quarter information from ElasticSearch's Save Format.\n",
    "def extract_quarter(quarter_string):\n",
    "    q = 0\n",
    "    for i in range(1, 4 + 1):\n",
    "        if \"Q\" + str(i) in quarter_string:\n",
    "            q = i\n",
    "            break\n",
    "    y = 0\n",
    "    for i in range(2010, 2021 + 1):\n",
    "        if str(i) in quarter_string:\n",
    "            y = i\n",
    "            break\n",
    "    if y == 0:\n",
    "        for i in range(10, 21 + 1):\n",
    "            if str(i) in quarter_string:\n",
    "                y = 20 + i\n",
    "                break\n",
    "    return \"Q\" + str(q) + \"-\" + str(y)\n",
    "\n",
    "# Iterate over and preprocess ASX data.\n",
    "asx_quarterly = []\n",
    "for bucket in rjson['result']['quarters'][\"buckets\"]:\n",
    "    quarter = extract_quarter(bucket[\"key_as_string\"])\n",
    "    price = float(bucket[\"Price_Average\"][\"value\"].replace(\",\", \" \"))\n",
    "    change_string = bucket[\"Change_Average\"][\"value\"]\n",
    "    while change_string[-1] == '%':\n",
    "        change_string = change_string[:-1]\n",
    "    change = float(change_string)\n",
    "    asx_quarterly.append((quarter, price, change))\n",
    "\n",
    "# Store ASX data in Pandas dataframe.\n",
    "asx_quarterly.sort()\n",
    "df_asx_quarterly = pd.DataFrame(asx_quarterly, columns=(\"Quarter\", \"ASX Price\", \"ASX Change (%)\"))\n",
    "df_asx_quarterly.head(10)"
   ]
  },
  {
   "cell_type": "markdown",
   "id": "25f5ef17",
   "metadata": {},
   "source": [
    "Now we load in and process the quarterly unemployment dataset."
   ]
  },
  {
   "cell_type": "code",
   "execution_count": null,
   "id": "b5063a13",
   "metadata": {},
   "outputs": [],
   "source": [
    "# Load data from ElasticSearch.\n",
    "URL = '' #TODO: Add URL here\n",
    "res = requests.get(URL)\n",
    "rjson = res.json()\n",
    "print(rjson)\n",
    "\n",
    "# Define Quarter fields.\n",
    "QUARTERS = ([\"Q4-2010\"] + [\"Q\" + str(i) + \"-\" + str(y) for y in range(2011, 2020+1) for i in range(1, 4+1)] +\n",
    "            [\"Q1-2021\", \"Q2-2021\", \"Q3-2021\"])\n",
    "\n",
    "# Iterate over and preprocess unemployment data.\n",
    "unemployment = []\n",
    "for Q in QUARTERS:\n",
    "    for value in rjson['result'][Q]['value']:\n",
    "        unemployment.append((Q, value))\n",
    "        \n",
    "# Store unemployment data in Pandas dataframe.\n",
    "unemployment.sort()\n",
    "df_unemployment_quarterly = pd.DataFrame(unemployment, columns=[\"Quarter\", \"Unemployment\"])\n",
    "df_unemployment_quarterly.head(10)"
   ]
  },
  {
   "cell_type": "markdown",
   "id": "892ead12",
   "metadata": {},
   "source": [
    "Merge datasets by quarters and add ordinality to the dataset."
   ]
  },
  {
   "cell_type": "code",
   "execution_count": null,
   "id": "03614578",
   "metadata": {},
   "outputs": [],
   "source": [
    "# Implement a hash for ordering quarters.\n",
    "REFERENCE_QUARTER = \"Q4-2010\"\n",
    "def quarter_index(qaurter, reference_quarter=\"Q4-2010\"):\n",
    "    q_s, year_s = qaurter.split('-')\n",
    "    q_s = q_s[1:]\n",
    "\n",
    "    ref_q_s, ref_year_s = reference_quarter.split('-')\n",
    "    ref_q_s = ref_q_s[1:]\n",
    "\n",
    "    return (int(year_s) - int(ref_year_s)) * 4 + (int(q_s) - int(ref_q_s))\n",
    "\n",
    "# Merge datasets.\n",
    "df = pd.merge(df_asx_quarterly, df_unemployment_quarterly, on='Quarter')\n",
    "df = df.dropna()\n",
    "df[\"Quarter Index\"] = df[\"Quarter\"].apply(quarter_index)\n",
    "df.sort(by=\"Quarter Index\")\n"
   ]
  },
  {
   "cell_type": "markdown",
   "id": "dc4ae931",
   "metadata": {},
   "source": [
    "Create regressions plots of Unemployment vs. time, Price ($) vs. time, and Price Change (\\%) vs. time, in order to identify the individual field's shapes / patterns."
   ]
  },
  {
   "cell_type": "code",
   "execution_count": null,
   "id": "7d8210e0",
   "metadata": {},
   "outputs": [],
   "source": [
    "# Analyse change over quarters.\n",
    "import matplotlib.pyplot as plt\n",
    "import statsmodels.api as sm\n",
    "import numpy as np\n",
    "\n",
    "x = np.array(df[\"Quarter Index\"])\n",
    "x_label = \"Quarter Since \" + REFERENCE_QUARTER\n",
    "field_names = [\"Unemployment\",  \"ASX Price\", \"ASX Change (%)\"]\n",
    "colors = [\"red\", \"darkgreen\", \"orange\"]\n",
    "for field_name, color in zip(field_names, colors):\n",
    "\n",
    "    # Create regression.\n",
    "    y = np.array(df[field_name])\n",
    "    x0 = sm.add_constant(x)\n",
    "    model = sm.OLS(y, x0).fit()\n",
    "    y_pred = model.predict(x0)\n",
    "\n",
    "    # Regression Description String.\n",
    "    regression_string = ''\n",
    "    regression_string += f'y = {model.params[1]:.2f}x + {model.params[0]:.2f}\\n'\n",
    "    regression_string += f'R-Squared (Adj) = {model.rsquared_adj:.2f}'\n",
    "\n",
    "    # Plot Datapoints and Regression.\n",
    "    plt.plot(x, y, color=color)\n",
    "    plt.plot(x, y_pred, color='darkblue', label=regression_string)\n",
    "    plt.title(\"Visualization of how \" + field_name + \" changes over quarters starting from \" + REFERENCE_QUARTER + '.')\n",
    "    plt.xlabel(x_label)\n",
    "    plt.ylabel(field_name)\n",
    "    plt.legend()\n",
    "    plt.grid(True)\n",
    "    plt.show()\n"
   ]
  },
  {
   "cell_type": "markdown",
   "id": "c566831a",
   "metadata": {},
   "source": [
    "Now for direct comparison of markets vs. unemployment, we create regressions of Price ($) or Price Change (\\%) vs. Unemployment levels to look for correlation."
   ]
  },
  {
   "cell_type": "code",
   "execution_count": null,
   "id": "e2da7443",
   "metadata": {},
   "outputs": [],
   "source": [
    "# Directly Unemployment vs ASX.\n",
    "y = np.array(df[\"Unemployment\"])\n",
    "y_label = \"Unemployment Amount\"\n",
    "\n",
    "field_names = [\"ASX Price\", \"ASX Change (%)\"]\n",
    "colors = [\"darkslateblue\", \"darkslategrey\"]\n",
    "for field_name, color in zip(field_names, colors):\n",
    "    # Create regression.\n",
    "    x = np.array(df[field_name])\n",
    "    x0 = sm.add_constant(x)\n",
    "    model = sm.OLS(y, x0).fit()\n",
    "    y_pred = model.predict(x0)\n",
    "\n",
    "    # Regression Description String.\n",
    "    regression_string = ''\n",
    "    regression_string += f'y = {model.params[1]:.2f}x + {model.params[0]:.2f}\\n'\n",
    "    regression_string += f'R-Squared (Adj) = {model.rsquared_adj:.2f}'\n",
    "\n",
    "    # Plot Datapoints and Regression.\n",
    "    plt.scatter(x, y, color=color)\n",
    "    plt.plot(x, y_pred, color='red', label=regression_string)\n",
    "    plt.title(\"Visualization of the relationship between \" + field_name + \" and\\n\" + y_label)\n",
    "    plt.xlabel(field_name)\n",
    "    plt.ylabel(y_label)\n",
    "    plt.legend()\n",
    "    plt.grid(True)\n",
    "    plt.show()"
   ]
  },
  {
   "cell_type": "markdown",
   "id": "f476a24e",
   "metadata": {},
   "source": []
  }
 ],
 "metadata": {
  "kernelspec": {
   "display_name": "Python 3 (ipykernel)",
   "language": "python",
   "name": "python3"
  },
  "language_info": {
   "codemirror_mode": {
    "name": "ipython",
    "version": 3
   },
   "file_extension": ".py",
   "mimetype": "text/x-python",
   "name": "python",
   "nbconvert_exporter": "python",
   "pygments_lexer": "ipython3",
   "version": "3.11.5"
  }
 },
 "nbformat": 4,
 "nbformat_minor": 5
}
