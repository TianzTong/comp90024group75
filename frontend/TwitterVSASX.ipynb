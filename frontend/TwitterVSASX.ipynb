{
 "cells": [
  {
   "cell_type": "code",
   "execution_count": null,
   "id": "78ee976e",
   "metadata": {},
   "outputs": [],
   "source": [
    "import json\n",
    "import requests\n",
    "\n",
    "# Get all ASX hits from fission.\n",
    "URL = '' # TODO ADD URL HERE\n",
    "res = requests.get(URL)\n",
    "rjson = res.json()\n",
    "\n",
    "# Scan and store daily ASX data.\n",
    "asx_daily = []\n",
    "for hit in rjson['result']['hits']:\n",
    "    date = pd.to_datetime(hit[\"_source\"][\"Date\"], format=\"%d/%m/%Y\").normalize()\n",
    "    price = float(hit[\"_source\"][\"Price\"].replace(\",\", \"\"))\n",
    "    change = float(hit[\"_source\"][\"Change %\"][:-1])\n",
    "    asx_daily.append((date, price, change))\n",
    "asx_daily.sort()\n",
    "df_asx_daily = pd.DataFrame(asx_daily, columns=(\"Date\", \"ASX Price\", \"ASX Change (%)\"))\n",
    "df_asx_daily.head(10)"
   ]
  },
  {
   "cell_type": "code",
   "execution_count": null,
   "id": "29cffbfb",
   "metadata": {},
   "outputs": [],
   "source": [
    "# Get all Twitter aggregations from fission.\n",
    "URL = '' # TODO ADD URL HERE\n",
    "res = requests.get(URL)\n",
    "rjson = res.json()\n",
    "\n",
    "# Scan and store daily Twitter data.\n",
    "twitter = {}\n",
    "for hit in rjson['result']['aggregations']:\n",
    "    date = pd.to_datetime(hit[\"_source\"][\"Date\"]).normalize()\n",
    "    sentiment = hit[\"_source\"][\"Sentiment\"]\n",
    "    if date not in twitter:\n",
    "        twitter[date] = 0\n",
    "    twitter[date] += sentiment\n",
    "df_twitter_daily = pd.DataFrame(sorted(twitter.items()), columns=(\"Date\", \"Sentiment\"))\n",
    "df_twitter_daily.head(10)"
   ]
  },
  {
   "cell_type": "code",
   "execution_count": null,
   "id": "c2ce62f7",
   "metadata": {},
   "outputs": [],
   "source": [
    "# Merge Datasets\n",
    "df = pd.merge(df_twitter_daily, df_asx_daily, on='Date')\n",
    "df = df.dropna()\n",
    "earliest_date = df['Date'].min()\n",
    "df['Date Index'] = (df['Date'] - earliest_date).dt.days\n",
    "df.head(10)"
   ]
  },
  {
   "cell_type": "code",
   "execution_count": null,
   "id": "6ed0cefd",
   "metadata": {},
   "outputs": [],
   "source": [
    "# Analyse change over time.\n",
    "import matplotlib.pyplot as plt\n",
    "import statsmodels.api as sm\n",
    "import numpy as np\n",
    "\n",
    "x = np.array(df[\"Date Index\"])\n",
    "x_label = \"Days Since 21/6/21\"\n",
    "field_names = [\"Sentiment\",  \"ASX Price\", \"ASX Change (%)\"]\n",
    "colors = [\"darkblue\", \"darkgreen\", \"indigo\"]\n",
    "for field_name, color in zip(field_names, colors):\n",
    "\n",
    "    # Create regression.\n",
    "    y = np.array(df[field_name])\n",
    "    x0 = sm.add_constant(x)\n",
    "    model = sm.OLS(y, x0).fit()\n",
    "    y_pred = model.predict(x0)\n",
    "\n",
    "    # Regression Description String.\n",
    "    regression_string = ''\n",
    "    regression_string += f'y = {model.params[1]:.2f}x + {model.params[0]:.2f}\\n'\n",
    "    regression_string += f'R-Squared (Adj) = {model.rsquared_adj:.2f}'\n",
    "\n",
    "    # Plot Datapoints and Regression.\n",
    "    plt.scatter(x, y, color=color)\n",
    "    plt.plot(x, y_pred, color='red', label=regression_string)\n",
    "    plt.title(\"Visualization of how \" + field_name + \" changes over time (from 21/6/21).\")\n",
    "    plt.xlabel(x_label)\n",
    "    plt.ylabel(field_name)\n",
    "    plt.legend()\n",
    "    plt.grid(True)\n",
    "    plt.show()"
   ]
  },
  {
   "cell_type": "code",
   "execution_count": null,
   "id": "b00872dd",
   "metadata": {},
   "outputs": [],
   "source": [
    "# Directly Sentiment vs ASX.\n",
    "y = np.array(df[\"Sentiment\"])\n",
    "y_label = \"Twitter Sentiments\"\n",
    "\n",
    "field_names = [\"ASX Price\", \"ASX Change (%)\"]\n",
    "colors = [\"darkgoldenrod\", \"steelblue\"]\n",
    "for field_name, color in zip(field_names, colors):\n",
    "\n",
    "    # Create regression.\n",
    "    x = np.array(df[field_name])\n",
    "    x0 = sm.add_constant(x)\n",
    "    model = sm.OLS(y, x0).fit()\n",
    "    y_pred = model.predict(x0)\n",
    "\n",
    "    # Regression Description String.\n",
    "    regression_string = ''\n",
    "    regression_string += f'y = {model.params[1]:.2f}x + {model.params[0]:.2f}\\n'\n",
    "    regression_string += f'R-Squared (Adj) = {model.rsquared_adj:.2f}'\n",
    "\n",
    "    # Plot Datapoints and Regression.\n",
    "    plt.scatter(x, y, color=color)\n",
    "    plt.plot(x, y_pred, color='red', label=regression_string)\n",
    "    plt.title(\"Visualization of the relationship between \" + field_name + \" and\\n Australian Twitter Sentiment.\")\n",
    "    plt.xlabel(field_name)\n",
    "    plt.ylabel(y_label)\n",
    "    plt.legend()\n",
    "    plt.grid(True)\n",
    "    plt.show()"
   ]
  }
 ],
 "metadata": {
  "kernelspec": {
   "display_name": "Python 3 (ipykernel)",
   "language": "python",
   "name": "python3"
  },
  "language_info": {
   "codemirror_mode": {
    "name": "ipython",
    "version": 3
   },
   "file_extension": ".py",
   "mimetype": "text/x-python",
   "name": "python",
   "nbconvert_exporter": "python",
   "pygments_lexer": "ipython3",
   "version": "3.11.5"
  }
 },
 "nbformat": 4,
 "nbformat_minor": 5
}
